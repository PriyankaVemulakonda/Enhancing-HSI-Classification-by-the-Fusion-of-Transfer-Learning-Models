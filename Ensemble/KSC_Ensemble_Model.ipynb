{
 "cells": [
  {
   "cell_type": "markdown",
   "metadata": {
    "id": "nOqp19Si5mJU"
   },
   "source": [
    "*italicized text*# Deep learning for hyperspectral image processing: 2-D convolutional neural networks\n",
    "This notebook demonstrates application of 2-Dimensional Convolutional Neural Network (2-D CNN) models to land use classification. Unlike Multi-Layer Perceptron [(MLP)](deep_learning_MLP.ipynb) models, where each pixel is considered as an input vector, the 2-D CNN models also utilize the spatial information of the neighboring pixels. A separate notebook is also available, describing the application of 3-Dimenaional Convolutional neural networks to landuse classification[(3-D CNN)](deep_learning_3D_CNN.ipynb)."
   ]
  },
  {
   "cell_type": "markdown",
   "metadata": {
    "id": "e4yP0OPS5mJb"
   },
   "source": [
    "## Module imports\n",
    "Below is the list of libraries and modules that are required in this notebook. The 'keras' package provides the building blocks for model configuration and training. The 'img_util' contains a set of useful functions for pre-processing of raw data to create input and output data containers, compatible to the 'keras' package. In addition, it provides a set of functions for post-processing of results and visualization of prediction maps.\n",
    "The 'sio' and 'os' module were used for working with external files. The plotting of data and generation of prediction maps were achieved using plotting functionalities of 'matplotlib'.  "
   ]
  },
  {
   "cell_type": "code",
   "execution_count": 1,
   "metadata": {
    "colab": {
     "base_uri": "https://localhost:8080/"
    },
    "execution": {
     "iopub.execute_input": "2024-05-25T04:51:29.581056Z",
     "iopub.status.busy": "2024-05-25T04:51:29.580692Z",
     "iopub.status.idle": "2024-05-25T04:51:29.586106Z",
     "shell.execute_reply": "2024-05-25T04:51:29.585165Z",
     "shell.execute_reply.started": "2024-05-25T04:51:29.581025Z"
    },
    "executionInfo": {
     "elapsed": 31469,
     "status": "ok",
     "timestamp": 1709699281451,
     "user": {
      "displayName": "Tanishq Rachamalla",
      "userId": "11094743700661047537"
     },
     "user_tz": -330
    },
    "id": "tdSwhgy17qH3",
    "outputId": "13f3fb56-99a7-427f-eba2-484bae5173d1"
   },
   "outputs": [],
   "source": [
    "# from google.colab import drive\n",
    "# drive.mount('/content/drive')"
   ]
  },
  {
   "cell_type": "code",
   "execution_count": 2,
   "metadata": {
    "execution": {
     "iopub.execute_input": "2024-06-04T17:55:47.476347Z",
     "iopub.status.busy": "2024-06-04T17:55:47.476021Z",
     "iopub.status.idle": "2024-06-04T17:56:00.921157Z",
     "shell.execute_reply": "2024-06-04T17:56:00.920293Z",
     "shell.execute_reply.started": "2024-06-04T17:55:47.476323Z"
    },
    "executionInfo": {
     "elapsed": 7995,
     "status": "ok",
     "timestamp": 1709699297111,
     "user": {
      "displayName": "Tanishq Rachamalla",
      "userId": "11094743700661047537"
     },
     "user_tz": -330
    },
    "id": "nrSYOp2m5mJb"
   },
   "outputs": [
    {
     "name": "stderr",
     "output_type": "stream",
     "text": [
      "2024-07-12 15:51:03.559890: I tensorflow/core/util/port.cc:113] oneDNN custom operations are on. You may see slightly different numerical results due to floating-point round-off errors from different computation orders. To turn them off, set the environment variable `TF_ENABLE_ONEDNN_OPTS=0`.\n",
      "2024-07-12 15:51:03.661262: I tensorflow/core/platform/cpu_feature_guard.cc:210] This TensorFlow binary is optimized to use available CPU instructions in performance-critical operations.\n",
      "To enable the following instructions: AVX2 AVX512F AVX512_VNNI FMA, in other operations, rebuild TensorFlow with the appropriate compiler flags.\n",
      "2024-07-12 15:51:05.473159: W tensorflow/compiler/tf2tensorrt/utils/py_utils.cc:38] TF-TRT Warning: Could not find TensorRT\n"
     ]
    }
   ],
   "source": [
    "# import sys\n",
    "# sys.path.append('/kaggle/input/util-py')\n",
    "\n",
    "\n",
    "import numpy as np\n",
    "from keras import models, layers, optimizers, metrics, losses, regularizers\n",
    "import img_util as util\n",
    "from scipy import io as sio\n",
    "import os\n",
    "from matplotlib import pyplot as plt\n",
    "import tensorflow"
   ]
  },
  {
   "cell_type": "markdown",
   "metadata": {
    "id": "VXONsOr97ZBs"
   },
   "source": [
    "# New Section"
   ]
  },
  {
   "cell_type": "markdown",
   "metadata": {
    "id": "imgAXB985mJd"
   },
   "source": [
    "## Hyperspectral dataset\n",
    "A set of publically-available hyperspectral imageray datasets can be downloaded form [this](http://www.ehu.eus/ccwintco/index.php/Hyperspectral_Remote_Sensing_Scenes) website. The Indian Pine dataset was downloaded and used in this notebook. The dataset consists of 150$\\times$150 pixels with 200 refelactance bands. The ground truth data for the dataset consists of 16 different classes. A summary of landuse types and their corresponding number of samples can be found in the following table:"
   ]
  },
  {
   "cell_type": "markdown",
   "metadata": {
    "id": "vciArD0s5mJe"
   },
   "source": [
    "| ID       | Class                        | Samples |\n",
    "|----------|------------------------------|---------|\n",
    "| 0        | Unlabeled                    | 10776   |\n",
    "| 1        | Alfalfa                      | 46      |\n",
    "| 2        | Corn-notill                  | 1428    |\n",
    "| 3        | Corn-mintill                 | 830     |\n",
    "| 4        | Corn                         | 237     |\n",
    "| 5        | Grass-pasture                | 483     |\n",
    "| 6        | Grass-trees                  | 730     |\n",
    "| 7        | Grass-pasture-mowed          | 28      |\n",
    "| 8        | Hay-windrowed                | 478     |\n",
    "| 9        | Oats                         | 20      |\n",
    "| 10       | Soybean-notill               | 972     |\n",
    "| 11       | Soybean-mintill              | 2455    |\n",
    "| 12       | Soybean-clean                | 593     |\n",
    "| 13       | Wheat                        | 205     |\n",
    "| 14       | Woods                        | 1265    |\n",
    "| 15       | Buildings-Grass-Trees-Drives | 386     |\n",
    "| 16       | Stone-Steel-Towers           | 93      |"
   ]
  },
  {
   "cell_type": "markdown",
   "metadata": {
    "id": "k_C2ij-e5mJf"
   },
   "source": [
    "The image data and class labels are available in two separate Matlab files with .mat extension. Therefore, the data were loaded into Python using the 'loadmat' function, available in the 'io' module of Scipy."
   ]
  },
  {
   "cell_type": "code",
   "execution_count": 3,
   "metadata": {
    "colab": {
     "base_uri": "https://localhost:8080/"
    },
    "execution": {
     "iopub.execute_input": "2024-06-04T17:56:01.141397Z",
     "iopub.status.busy": "2024-06-04T17:56:00.922806Z",
     "iopub.status.idle": "2024-06-04T17:56:01.271242Z",
     "shell.execute_reply": "2024-06-04T17:56:01.270315Z",
     "shell.execute_reply.started": "2024-06-04T17:56:01.141354Z"
    },
    "executionInfo": {
     "elapsed": 1799,
     "status": "ok",
     "timestamp": 1709699300239,
     "user": {
      "displayName": "Tanishq Rachamalla",
      "userId": "11094743700661047537"
     },
     "user_tz": -330
    },
    "id": "buvN5-GJ5mJg",
    "outputId": "3a26c881-7aa3-4cc4-c449-bbac08b77414"
   },
   "outputs": [
    {
     "name": "stdout",
     "output_type": "stream",
     "text": [
      "(512, 614, 176) (512, 614)\n"
     ]
    }
   ],
   "source": [
    "data_folder = './'\n",
    "data_file= 'KSC'\n",
    "gt_file = 'KSC_gt'\n",
    "#original\n",
    "# data_set = sio.loadmat(os.path.join(data_folder, data_file)).get('paviaU')\n",
    "# gt = sio.loadmat(os.path.join(data_folder, gt_file)).get('paviaU_gt')\n",
    "# partitioned based IP\n",
    "# data_set = sio.loadmat(os.path.join(data_folder, data_file)).get('indian_pines_corrected')\n",
    "# gt = sio.loadmat(os.path.join(data_folder, gt_file)).get('indian_pines_gt')\n",
    "#partitioned based SA\n",
    "#data_set = sio.loadmat(os.path.join(data_folder, data_file)).get('combinedbands')\n",
    "#gt = sio.loadmat(os.path.join(data_folder, gt_file)).get('salinas_gt')\n",
    "#KSC\n",
    "data_set = sio.loadmat(os.path.join(data_folder, data_file)).get('KSC')\n",
    "gt = sio.loadmat(os.path.join(data_folder, gt_file)).get('KSC_gt')\n",
    "#data_set = sio.loadmat(os.path.join(data_folder, data_file)).get('Botswana')\n",
    "#gt = sio.loadmat(os.path.join(data_folder, gt_file)).get('Botswana_gt')\n",
    "# Checking the shape of data_set (containing image data) and gt (containing ground truth data) Numpy arrays.\n",
    "print(data_set.shape ,gt.shape)"
   ]
  },
  {
   "cell_type": "markdown",
   "metadata": {
    "id": "9KlsGYYw5mJg"
   },
   "source": [
    "## Training and test data\n",
    "The 'data_split' function was used for splitting the data into training and test sets using 0.75 as the split ratio (75% of labeled pixels were used for training). This function ensures that all classes are represented in the training dataset (see function documentation for available split methods). In addition, it allows users to focus their analysis on certain classes and remove those pixels that are not labeled. For example, the unlabeled data are represented by 0 in the gourd truth data file. Therefore, 0 was included in 'rem_classes' list, indicating its removal from the dataset."
   ]
  },
  {
   "cell_type": "code",
   "execution_count": 4,
   "metadata": {
    "colab": {
     "base_uri": "https://localhost:8080/"
    },
    "execution": {
     "iopub.execute_input": "2024-06-04T17:56:04.880797Z",
     "iopub.status.busy": "2024-06-04T17:56:04.880429Z",
     "iopub.status.idle": "2024-06-04T17:56:04.903610Z",
     "shell.execute_reply": "2024-06-04T17:56:04.902471Z",
     "shell.execute_reply.started": "2024-06-04T17:56:04.880771Z"
    },
    "executionInfo": {
     "elapsed": 7,
     "status": "ok",
     "timestamp": 1709699302226,
     "user": {
      "displayName": "Tanishq Rachamalla",
      "userId": "11094743700661047537"
     },
     "user_tz": -330
    },
    "id": "nzr7xARN5mJq",
    "outputId": "9d33a482-99d2-4bb8-b1bb-115daa613f6b"
   },
   "outputs": [
    {
     "name": "stdout",
     "output_type": "stream",
     "text": [
      "Number of training samples = 3902.\n",
      "Number of test samples = 1306.\n"
     ]
    }
   ],
   "source": [
    "train_fraction = 0.75\n",
    "rem_classes = [0]\n",
    "(train_rows, train_cols), (test_rows, test_cols) = util.data_split(gt,\n",
    "                                                                   train_fraction=train_fraction,\n",
    "                                                                   rem_classes=rem_classes)\n",
    "\n",
    "print('Number of training samples = {}.\\nNumber of test samples = {}.'.format(len(train_rows), len(test_rows)))"
   ]
  },
  {
   "cell_type": "markdown",
   "metadata": {
    "id": "mcumR_Gu5mJs"
   },
   "source": [
    "A portion of training data can optionally be set aside for validation."
   ]
  },
  {
   "cell_type": "code",
   "execution_count": 5,
   "metadata": {
    "execution": {
     "iopub.execute_input": "2024-06-04T17:56:06.876382Z",
     "iopub.status.busy": "2024-06-04T17:56:06.875545Z",
     "iopub.status.idle": "2024-06-04T17:56:23.202659Z",
     "shell.execute_reply": "2024-06-04T17:56:23.201506Z",
     "shell.execute_reply.started": "2024-06-04T17:56:06.876351Z"
    },
    "executionInfo": {
     "elapsed": 15671,
     "status": "ok",
     "timestamp": 1709699320970,
     "user": {
      "displayName": "Tanishq Rachamalla",
      "userId": "11094743700661047537"
     },
     "user_tz": -330
    },
    "id": "KxHPsIk85mJu"
   },
   "outputs": [],
   "source": [
    "val_fraction = 0.05\n",
    "(train_rows_sub, train_cols_sub), (val_rows, val_cols) = util.val_split(\n",
    "        train_rows, train_cols, gt, val_fraction=val_fraction)"
   ]
  },
  {
   "cell_type": "markdown",
   "metadata": {
    "id": "PE0fUe-t5mJv"
   },
   "source": [
    "## Dimensionality reduction\n",
    "The spectral dimension of an image dataset can be reduced using Principle Component Analysis (PCA). Although, this step is not necessary, it could significantly reduce the spectral dimension without losing important information. The 'reduce_dim' function takes the numpy array containing image data as its first argument and the number of reduced dimensions (i.e., an integer) or the minimum variance captured by PCA dimensions (i.e., a float) as the second argument.   "
   ]
  },
  {
   "cell_type": "code",
   "execution_count": 6,
   "metadata": {
    "colab": {
     "base_uri": "https://localhost:8080/"
    },
    "execution": {
     "iopub.execute_input": "2024-06-04T17:56:23.204879Z",
     "iopub.status.busy": "2024-06-04T17:56:23.204555Z",
     "iopub.status.idle": "2024-06-04T17:56:23.635742Z",
     "shell.execute_reply": "2024-06-04T17:56:23.634187Z",
     "shell.execute_reply.started": "2024-06-04T17:56:23.204852Z"
    },
    "executionInfo": {
     "elapsed": 6,
     "status": "ok",
     "timestamp": 1709699320971,
     "user": {
      "displayName": "Tanishq Rachamalla",
      "userId": "11094743700661047537"
     },
     "user_tz": -330
    },
    "id": "fBQXNT9E5mJv",
    "outputId": "8cf63c73-6b30-4a93-e556-81e9e8a831bc"
   },
   "outputs": [
    {
     "data": {
      "text/plain": [
       "(512, 614, 3)"
      ]
     },
     "execution_count": 6,
     "metadata": {},
     "output_type": "execute_result"
    }
   ],
   "source": [
    "# data_set = util.reduce_dim(img_data=data_set, n_components=.999)\n",
    "data_set = util.reduce_dim(img_data=data_set, n_components=3)\n",
    "data_set.shape\n"
   ]
  },
  {
   "cell_type": "markdown",
   "metadata": {
    "id": "W2GQmHHV5mJw"
   },
   "source": [
    "Using a value of 0.999 for the percentage of captured variance, the spectral dimension was reduced from 200 to 69 bands. The new dimensions were sorted according to their contribution to the dataset variance. The top 10 dimensions of transformed data are illustrated below."
   ]
  },
  {
   "cell_type": "code",
   "execution_count": 7,
   "metadata": {
    "colab": {
     "base_uri": "https://localhost:8080/",
     "height": 232
    },
    "execution": {
     "iopub.execute_input": "2024-06-04T17:56:23.642983Z",
     "iopub.status.busy": "2024-06-04T17:56:23.642200Z",
     "iopub.status.idle": "2024-06-04T17:56:24.514784Z",
     "shell.execute_reply": "2024-06-04T17:56:24.513772Z",
     "shell.execute_reply.started": "2024-06-04T17:56:23.642937Z"
    },
    "executionInfo": {
     "elapsed": 2464,
     "status": "ok",
     "timestamp": 1709699557806,
     "user": {
      "displayName": "Tanishq Rachamalla",
      "userId": "11094743700661047537"
     },
     "user_tz": -330
    },
    "id": "eyKkBN2W5mJw",
    "outputId": "c2a09e98-6c9b-4317-bd8a-180b9f948fec"
   },
   "outputs": [
    {
     "data": {
      "image/png": "[encoded data removed]",
      "text/plain": [
       "<Figure size 1500x700 with 3 Axes>"
      ]
     },
     "metadata": {},
     "output_type": "display_data"
    }
   ],
   "source": [
    "import matplotlib.pyplot as plt\n",
    "\n",
    "fig, axes = plt.subplots(1, 3, figsize=(15, 7))\n",
    "for numb, axe in enumerate(axes):\n",
    "    axe.imshow(data_set[:, :, numb])\n",
    "    axe.set_title('dim=' + ' ' + str(numb))\n",
    "plt.subplots_adjust(wspace=0.5)\n",
    "plt.show()\n"
   ]
  },
  {
   "cell_type": "markdown",
   "metadata": {
    "id": "90hcFPlI5mJx"
   },
   "source": [
    "## Rescaling data\n",
    "The 'rescale_data' function provides four methods for rescaling data at each spectral dimension. In this notebook, the 'standard' method which transforms the data to have zero mean and a standard deviation of 1 was used for rescaling data."
   ]
  },
  {
   "cell_type": "code",
   "execution_count": 8,
   "metadata": {
    "execution": {
     "iopub.execute_input": "2024-06-04T17:56:24.517110Z",
     "iopub.status.busy": "2024-06-04T17:56:24.516835Z",
     "iopub.status.idle": "2024-06-04T17:56:24.522545Z",
     "shell.execute_reply": "2024-06-04T17:56:24.521696Z",
     "shell.execute_reply.started": "2024-06-04T17:56:24.517087Z"
    },
    "executionInfo": {
     "elapsed": 3,
     "status": "ok",
     "timestamp": 1709699562989,
     "user": {
      "displayName": "Tanishq Rachamalla",
      "userId": "11094743700661047537"
     },
     "user_tz": -330
    },
    "id": "2nZ59hHd5mJx"
   },
   "outputs": [],
   "source": [
    "data_set = util.rescale_data(data_set)"
   ]
  },
  {
   "cell_type": "code",
   "execution_count": 9,
   "metadata": {
    "colab": {
     "base_uri": "https://localhost:8080/"
    },
    "execution": {
     "iopub.execute_input": "2024-06-04T17:56:24.524255Z",
     "iopub.status.busy": "2024-06-04T17:56:24.523776Z",
     "iopub.status.idle": "2024-06-04T17:56:24.535899Z",
     "shell.execute_reply": "2024-06-04T17:56:24.534957Z",
     "shell.execute_reply.started": "2024-06-04T17:56:24.524221Z"
    },
    "executionInfo": {
     "elapsed": 5,
     "status": "ok",
     "timestamp": 1709699563852,
     "user": {
      "displayName": "Tanishq Rachamalla",
      "userId": "11094743700661047537"
     },
     "user_tz": -330
    },
    "id": "A8FgXO8DwNPY",
    "outputId": "8d6c7dc5-605b-4bd5-831b-faad8091666f"
   },
   "outputs": [
    {
     "data": {
      "text/plain": [
       "(512, 614, 3)"
      ]
     },
     "execution_count": 9,
     "metadata": {},
     "output_type": "execute_result"
    }
   ],
   "source": [
    "data_set.shape"
   ]
  },
  {
   "cell_type": "markdown",
   "metadata": {
    "id": "vUMUEPdu5mJx"
   },
   "source": [
    "## Creating input and target tensors\n",
    "The input and target tensors should be compatible with the type of neural network model that is used for classification. The 'create_patch' function can create inputs, compatible to both pixel inputs for [MLP](deep_learning_MLP.ipynb) models as well as patch inputs for [2-D CNN](deep_learning_2D_CNN.ipynb) and [3-D CNN](deep_learning_3D_CNN.ipynb) models.\n",
    "In this notebook, a 2-D CNN model with a 'path_size' of 5 is used for classification.  "
   ]
  },
  {
   "cell_type": "code",
   "execution_count": 10,
   "metadata": {
    "colab": {
     "base_uri": "https://localhost:8080/"
    },
    "execution": {
     "iopub.execute_input": "2024-06-04T17:56:24.537260Z",
     "iopub.status.busy": "2024-06-04T17:56:24.536921Z",
     "iopub.status.idle": "2024-06-04T17:58:06.014303Z",
     "shell.execute_reply": "2024-06-04T17:58:06.013154Z",
     "shell.execute_reply.started": "2024-06-04T17:56:24.537235Z"
    },
    "executionInfo": {
     "elapsed": 68834,
     "status": "ok",
     "timestamp": 1709699636986,
     "user": {
      "displayName": "Tanishq Rachamalla",
      "userId": "11094743700661047537"
     },
     "user_tz": -330
    },
    "id": "ui3YOSJF5mJx",
    "outputId": "00f54840-07e8-43c0-da64-86bd57f9e3ba"
   },
   "outputs": [
    {
     "name": "stdout",
     "output_type": "stream",
     "text": [
      "Train Input Sub Size: (3701, 64, 64, 3)\n",
      "Validation Input Size: (201, 64, 64, 3)\n",
      "Test Input Size: (1306, 64, 64, 3)\n"
     ]
    }
   ],
   "source": [
    "patch_size = 64\n",
    "train_pixel_indices_sub = (train_rows_sub, train_cols_sub)\n",
    "val_pixel_indices = (val_rows, val_cols)\n",
    "test_pixel_indices = (test_rows, test_cols)\n",
    "catg_labels = np.unique([int(gt[idx[0],idx[1]]) for idx in zip(train_rows, train_cols)])\n",
    "int_to_vector_dict = util.label_2_one_hot(catg_labels)\n",
    "\n",
    "train_input_sub, y_train_sub = util.create_patch(\n",
    "    data_set=data_set,\n",
    "    gt=gt,\n",
    "    pixel_indices=train_pixel_indices_sub,\n",
    "    patch_size=patch_size,\n",
    "    label_vect_dict=int_to_vector_dict)\n",
    "\n",
    "print(\"Train Input Sub Size:\", train_input_sub.shape)\n",
    "\n",
    "val_input, y_val = util.create_patch(\n",
    "    data_set=data_set,\n",
    "    gt=gt,\n",
    "    pixel_indices=val_pixel_indices,\n",
    "    patch_size=patch_size,\n",
    "    label_vect_dict=int_to_vector_dict)\n",
    "\n",
    "print(\"Validation Input Size:\", val_input.shape)\n",
    "\n",
    "test_input, y_test = util.create_patch(\n",
    "    data_set=data_set,\n",
    "    gt=gt,\n",
    "    pixel_indices=test_pixel_indices,\n",
    "    patch_size=patch_size,\n",
    "    label_vect_dict=int_to_vector_dict)\n",
    "\n",
    "print(\"Test Input Size:\", test_input.shape)\n"
   ]
  },
  {
   "cell_type": "markdown",
   "metadata": {
    "id": "InXZ3x-f5mJx"
   },
   "source": [
    "## Creating a MobileNetV2 Model"
   ]
  },
  {
   "cell_type": "code",
   "execution_count": 11,
   "metadata": {
    "colab": {
     "base_uri": "https://localhost:8080/"
    },
    "execution": {
     "iopub.execute_input": "2024-06-04T17:58:06.015886Z",
     "iopub.status.busy": "2024-06-04T17:58:06.015582Z",
     "iopub.status.idle": "2024-06-04T17:58:08.126093Z",
     "shell.execute_reply": "2024-06-04T17:58:08.125229Z",
     "shell.execute_reply.started": "2024-06-04T17:58:06.015860Z"
    },
    "executionInfo": {
     "elapsed": 9490,
     "status": "ok",
     "timestamp": 1709699646447,
     "user": {
      "displayName": "Tanishq Rachamalla",
      "userId": "11094743700661047537"
     },
     "user_tz": -330
    },
    "id": "i09jtcR35mJy",
    "outputId": "7bc508e2-2506-43d1-e8cf-8fa819f79028"
   },
   "outputs": [
    {
     "name": "stderr",
     "output_type": "stream",
     "text": [
      "/tmp/ipykernel_120747/2931993357.py:12: UserWarning: `input_shape` is undefined or non-square, or `rows` is not in [96, 128, 160, 192, 224]. Weights for input shape (224, 224) will be loaded as the default.\n",
      "  base_model_mobilenet = MobileNetV2(weights='imagenet', include_top=False, input_tensor=input_layer)\n",
      "2024-07-12 15:52:19.623464: W tensorflow/core/common_runtime/gpu/gpu_device.cc:2251] Cannot dlopen some GPU libraries. Please make sure the missing libraries mentioned above are installed properly if you would like to use GPU. Follow the guide at https://www.tensorflow.org/install/gpu for how to download and setup the required libraries for your platform.\n",
      "Skipping registering GPU devices...\n"
     ]
    }
   ],
   "source": [
    "from tensorflow.keras.applications import MobileNetV2\n",
    "from tensorflow.keras.layers import Dense, GlobalAveragePooling2D, Dropout, Input, Average\n",
    "from tensorflow.keras.models import Model\n",
    "from tensorflow.keras.optimizers import Adam\n",
    "import tensorflow as tf\n",
    "\n",
    "# Define the input layer with the desired shape\n",
    "desired_input_shape = (64, 64, 3)\n",
    "input_layer = Input(shape=desired_input_shape)\n",
    "\n",
    "# Load MobileNetV2 pre-trained on ImageNet data but without the top classification layer\n",
    "base_model_mobilenet = MobileNetV2(weights='imagenet', include_top=False, input_tensor=input_layer)\n",
    "\n",
    "# Freeze the layers of the base_model\n",
    "for layer in base_model_mobilenet.layers:\n",
    "    layer.trainable = False\n",
    "\n",
    "# Add custom layers on top of MobileNetV2\n",
    "x = base_model_mobilenet.output\n",
    "x = GlobalAveragePooling2D()(x)\n",
    "x = Dense(512, activation='relu')(x)\n",
    "x = Dropout(0.5)(x)\n",
    "x = Dense(256, activation='relu')(x)\n",
    "x = Dropout(0.3)(x)\n",
    "predictions_mobilenet = Dense(13, activation='softmax')(x)\n",
    "\n",
    "# This is the model we will train\n",
    "mobilenet_model = Model(inputs=base_model_mobilenet.input, outputs=predictions_mobilenet)\n"
   ]
  },
  {
   "cell_type": "code",
   "execution_count": 12,
   "metadata": {
    "execution": {
     "iopub.execute_input": "2024-06-04T17:58:08.127777Z",
     "iopub.status.busy": "2024-06-04T17:58:08.127421Z",
     "iopub.status.idle": "2024-06-04T17:58:10.390349Z",
     "shell.execute_reply": "2024-06-04T17:58:10.389337Z",
     "shell.execute_reply.started": "2024-06-04T17:58:08.127746Z"
    }
   },
   "outputs": [],
   "source": [
    "from tensorflow.keras.applications import ResNet50\n",
    "\n",
    "# Load ResNet50 pre-trained on ImageNet data but without the top classification layer\n",
    "base_model_resnet = ResNet50(weights='imagenet', include_top=False, input_tensor=input_layer)\n",
    "\n",
    "# Freeze the layers of the base_model\n",
    "for layer in base_model_resnet.layers:\n",
    "    layer.trainable = False\n",
    "\n",
    "# Add custom layers on top of ResNet50\n",
    "x = base_model_resnet.output\n",
    "x = GlobalAveragePooling2D()(x)\n",
    "x = Dense(512, activation='relu')(x)\n",
    "x = Dropout(0.5)(x)\n",
    "x = Dense(256, activation='relu')(x)\n",
    "x = Dropout(0.3)(x)\n",
    "x = Dense(128, activation='relu')(x)\n",
    "predictions_resnet = Dense(13, activation='softmax')(x)\n",
    "\n",
    "# This is the model we will train\n",
    "resnet_model = Model(inputs=base_model_resnet.input, outputs=predictions_resnet)\n"
   ]
  },
  {
   "cell_type": "code",
   "execution_count": 13,
   "metadata": {
    "execution": {
     "iopub.execute_input": "2024-06-04T17:58:10.391980Z",
     "iopub.status.busy": "2024-06-04T17:58:10.391679Z",
     "iopub.status.idle": "2024-06-04T17:58:10.454821Z",
     "shell.execute_reply": "2024-06-04T17:58:10.453932Z",
     "shell.execute_reply.started": "2024-06-04T17:58:10.391954Z"
    }
   },
   "outputs": [
    {
     "data": {
      "text/html": [
       "<pre style=\"white-space:pre;overflow-x:auto;line-height:normal;font-family:Menlo,'DejaVu Sans Mono',consolas,'Courier New',monospace\"><span style=\"font-weight: bold\">Model: \"ensemble\"</span>\n",
       "</pre>\n"
      ],
      "text/plain": [
       "\u001b[1mModel: \"ensemble\"\u001b[0m\n"
      ]
     },
     "metadata": {},
     "output_type": "display_data"
    },
    {
     "data": {
      "text/html": [
       "<pre style=\"white-space:pre;overflow-x:auto;line-height:normal;font-family:Menlo,'DejaVu Sans Mono',consolas,'Courier New',monospace\">┏━━━━━━━━━━━━━━━━━━━━━┳━━━━━━━━━━━━━━━━━━━┳━━━━━━━━━━━━┳━━━━━━━━━━━━━━━━━━━┓\n",
       "┃<span style=\"font-weight: bold\"> Layer (type)        </span>┃<span style=\"font-weight: bold\"> Output Shape      </span>┃<span style=\"font-weight: bold\">    Param # </span>┃<span style=\"font-weight: bold\"> Connected to      </span>┃\n",
       "┡━━━━━━━━━━━━━━━━━━━━━╇━━━━━━━━━━━━━━━━━━━╇━━━━━━━━━━━━╇━━━━━━━━━━━━━━━━━━━┩\n",
       "│ input_layer         │ (<span style=\"color: #00d7ff; text-decoration-color: #00d7ff\">None</span>, <span style=\"color: #00af00; text-decoration-color: #00af00\">64</span>, <span style=\"color: #00af00; text-decoration-color: #00af00\">64</span>, <span style=\"color: #00af00; text-decoration-color: #00af00\">3</span>) │          <span style=\"color: #00af00; text-decoration-color: #00af00\">0</span> │ -                 │\n",
       "│ (<span style=\"color: #0087ff; text-decoration-color: #0087ff\">InputLayer</span>)        │                   │            │                   │\n",
       "├─────────────────────┼───────────────────┼────────────┼───────────────────┤\n",
       "│ functional_3        │ (<span style=\"color: #00d7ff; text-decoration-color: #00d7ff\">None</span>, <span style=\"color: #00af00; text-decoration-color: #00af00\">13</span>)        │ <span style=\"color: #00af00; text-decoration-color: #00af00\">24,802,701</span> │ input_layer[<span style=\"color: #00af00; text-decoration-color: #00af00\">0</span>][<span style=\"color: #00af00; text-decoration-color: #00af00\">0</span>] │\n",
       "│ (<span style=\"color: #0087ff; text-decoration-color: #0087ff\">Functional</span>)        │                   │            │                   │\n",
       "├─────────────────────┼───────────────────┼────────────┼───────────────────┤\n",
       "│ functional_1        │ (<span style=\"color: #00d7ff; text-decoration-color: #00d7ff\">None</span>, <span style=\"color: #00af00; text-decoration-color: #00af00\">13</span>)        │  <span style=\"color: #00af00; text-decoration-color: #00af00\">3,048,525</span> │ input_layer[<span style=\"color: #00af00; text-decoration-color: #00af00\">0</span>][<span style=\"color: #00af00; text-decoration-color: #00af00\">0</span>] │\n",
       "│ (<span style=\"color: #0087ff; text-decoration-color: #0087ff\">Functional</span>)        │                   │            │                   │\n",
       "├─────────────────────┼───────────────────┼────────────┼───────────────────┤\n",
       "│ average (<span style=\"color: #0087ff; text-decoration-color: #0087ff\">Average</span>)   │ (<span style=\"color: #00d7ff; text-decoration-color: #00d7ff\">None</span>, <span style=\"color: #00af00; text-decoration-color: #00af00\">13</span>)        │          <span style=\"color: #00af00; text-decoration-color: #00af00\">0</span> │ functional_3[<span style=\"color: #00af00; text-decoration-color: #00af00\">0</span>][<span style=\"color: #00af00; text-decoration-color: #00af00\">…</span> │\n",
       "│                     │                   │            │ functional_1[<span style=\"color: #00af00; text-decoration-color: #00af00\">0</span>][<span style=\"color: #00af00; text-decoration-color: #00af00\">…</span> │\n",
       "└─────────────────────┴───────────────────┴────────────┴───────────────────┘\n",
       "</pre>\n"
      ],
      "text/plain": [
       "┏━━━━━━━━━━━━━━━━━━━━━┳━━━━━━━━━━━━━━━━━━━┳━━━━━━━━━━━━┳━━━━━━━━━━━━━━━━━━━┓\n",
       "┃\u001b[1m \u001b[0m\u001b[1mLayer (type)       \u001b[0m\u001b[1m \u001b[0m┃\u001b[1m \u001b[0m\u001b[1mOutput Shape     \u001b[0m\u001b[1m \u001b[0m┃\u001b[1m \u001b[0m\u001b[1m   Param #\u001b[0m\u001b[1m \u001b[0m┃\u001b[1m \u001b[0m\u001b[1mConnected to     \u001b[0m\u001b[1m \u001b[0m┃\n",
       "┡━━━━━━━━━━━━━━━━━━━━━╇━━━━━━━━━━━━━━━━━━━╇━━━━━━━━━━━━╇━━━━━━━━━━━━━━━━━━━┩\n",
       "│ input_layer         │ (\u001b[38;5;45mNone\u001b[0m, \u001b[38;5;34m64\u001b[0m, \u001b[38;5;34m64\u001b[0m, \u001b[38;5;34m3\u001b[0m) │          \u001b[38;5;34m0\u001b[0m │ -                 │\n",
       "│ (\u001b[38;5;33mInputLayer\u001b[0m)        │                   │            │                   │\n",
       "├─────────────────────┼───────────────────┼────────────┼───────────────────┤\n",
       "│ functional_3        │ (\u001b[38;5;45mNone\u001b[0m, \u001b[38;5;34m13\u001b[0m)        │ \u001b[38;5;34m24,802,701\u001b[0m │ input_layer[\u001b[38;5;34m0\u001b[0m][\u001b[38;5;34m0\u001b[0m] │\n",
       "│ (\u001b[38;5;33mFunctional\u001b[0m)        │                   │            │                   │\n",
       "├─────────────────────┼───────────────────┼────────────┼───────────────────┤\n",
       "│ functional_1        │ (\u001b[38;5;45mNone\u001b[0m, \u001b[38;5;34m13\u001b[0m)        │  \u001b[38;5;34m3,048,525\u001b[0m │ input_layer[\u001b[38;5;34m0\u001b[0m][\u001b[38;5;34m0\u001b[0m] │\n",
       "│ (\u001b[38;5;33mFunctional\u001b[0m)        │                   │            │                   │\n",
       "├─────────────────────┼───────────────────┼────────────┼───────────────────┤\n",
       "│ average (\u001b[38;5;33mAverage\u001b[0m)   │ (\u001b[38;5;45mNone\u001b[0m, \u001b[38;5;34m13\u001b[0m)        │          \u001b[38;5;34m0\u001b[0m │ functional_3[\u001b[38;5;34m0\u001b[0m][\u001b[38;5;34m…\u001b[0m │\n",
       "│                     │                   │            │ functional_1[\u001b[38;5;34m0\u001b[0m][\u001b[38;5;34m…\u001b[0m │\n",
       "└─────────────────────┴───────────────────┴────────────┴───────────────────┘\n"
      ]
     },
     "metadata": {},
     "output_type": "display_data"
    },
    {
     "data": {
      "text/html": [
       "<pre style=\"white-space:pre;overflow-x:auto;line-height:normal;font-family:Menlo,'DejaVu Sans Mono',consolas,'Courier New',monospace\"><span style=\"font-weight: bold\"> Total params: </span><span style=\"color: #00af00; text-decoration-color: #00af00\">27,851,226</span> (106.24 MB)\n",
       "</pre>\n"
      ],
      "text/plain": [
       "\u001b[1m Total params: \u001b[0m\u001b[38;5;34m27,851,226\u001b[0m (106.24 MB)\n"
      ]
     },
     "metadata": {},
     "output_type": "display_data"
    },
    {
     "data": {
      "text/html": [
       "<pre style=\"white-space:pre;overflow-x:auto;line-height:normal;font-family:Menlo,'DejaVu Sans Mono',consolas,'Courier New',monospace\"><span style=\"font-weight: bold\"> Trainable params: </span><span style=\"color: #00af00; text-decoration-color: #00af00\">2,005,530</span> (7.65 MB)\n",
       "</pre>\n"
      ],
      "text/plain": [
       "\u001b[1m Trainable params: \u001b[0m\u001b[38;5;34m2,005,530\u001b[0m (7.65 MB)\n"
      ]
     },
     "metadata": {},
     "output_type": "display_data"
    },
    {
     "data": {
      "text/html": [
       "<pre style=\"white-space:pre;overflow-x:auto;line-height:normal;font-family:Menlo,'DejaVu Sans Mono',consolas,'Courier New',monospace\"><span style=\"font-weight: bold\"> Non-trainable params: </span><span style=\"color: #00af00; text-decoration-color: #00af00\">25,845,696</span> (98.59 MB)\n",
       "</pre>\n"
      ],
      "text/plain": [
       "\u001b[1m Non-trainable params: \u001b[0m\u001b[38;5;34m25,845,696\u001b[0m (98.59 MB)\n"
      ]
     },
     "metadata": {},
     "output_type": "display_data"
    }
   ],
   "source": [
    "# Define the function to create the ensemble model\n",
    "def ensemble(models, model_input):\n",
    "    outputs = [model(model_input) for model in models]\n",
    "    y = Average()(outputs)\n",
    "    model = Model(model_input, y, name='ensemble')\n",
    "    return model\n",
    "\n",
    "# Create the ensemble model\n",
    "ensemble_model = ensemble([resnet_model, mobilenet_model], input_layer)\n",
    "\n",
    "# Compile the ensemble model\n",
    "ensemble_model.compile(loss='categorical_crossentropy', optimizer=Adam(learning_rate=0.0001), metrics=['accuracy'])\n",
    "\n",
    "# View the structure of the ensemble model\n",
    "ensemble_model.summary()\n"
   ]
  },
  {
   "cell_type": "code",
   "execution_count": 14,
   "metadata": {
    "colab": {
     "base_uri": "https://localhost:8080/"
    },
    "execution": {
     "iopub.execute_input": "2024-06-04T17:58:10.457789Z",
     "iopub.status.busy": "2024-06-04T17:58:10.457491Z",
     "iopub.status.idle": "2024-06-04T17:58:24.757681Z",
     "shell.execute_reply": "2024-06-04T17:58:24.756645Z",
     "shell.execute_reply.started": "2024-06-04T17:58:10.457764Z"
    },
    "executionInfo": {
     "elapsed": 5397,
     "status": "ok",
     "timestamp": 1709640750975,
     "user": {
      "displayName": "Tanishq Rachamalla",
      "userId": "11094743700661047537"
     },
     "user_tz": -330
    },
    "id": "DOsZTa-QmPNx",
    "outputId": "cffc096b-81c9-4654-dd44-447d5e392c5d"
   },
   "outputs": [
    {
     "name": "stdout",
     "output_type": "stream",
     "text": [
      "Defaulting to user installation because normal site-packages is not writeable\n",
      "Requirement already satisfied: adam in ./.local/lib/python3.9/site-packages (0.0.0.dev0)\n"
     ]
    }
   ],
   "source": [
    "!pip install adam"
   ]
  },
  {
   "cell_type": "code",
   "execution_count": 15,
   "metadata": {
    "execution": {
     "iopub.execute_input": "2024-06-04T17:58:24.759489Z",
     "iopub.status.busy": "2024-06-04T17:58:24.759162Z",
     "iopub.status.idle": "2024-06-04T17:58:24.764556Z",
     "shell.execute_reply": "2024-06-04T17:58:24.763532Z",
     "shell.execute_reply.started": "2024-06-04T17:58:24.759459Z"
    },
    "id": "5r6-kKG7ns2c"
   },
   "outputs": [],
   "source": [
    "from tensorflow.keras.optimizers import Adam"
   ]
  },
  {
   "cell_type": "markdown",
   "metadata": {
    "id": "fZ6WQurb5mJy"
   },
   "source": [
    "## Training model and plotting training history\n",
    "The model was compiled and trained using the training, validation and test [data.](#Creating-input-and-target-tensors)"
   ]
  },
  {
   "cell_type": "code",
   "execution_count": 16,
   "metadata": {
    "execution": {
     "iopub.execute_input": "2024-06-04T17:58:24.766458Z",
     "iopub.status.busy": "2024-06-04T17:58:24.766073Z",
     "iopub.status.idle": "2024-06-04T18:00:54.398851Z",
     "shell.execute_reply": "2024-06-04T18:00:54.397518Z",
     "shell.execute_reply.started": "2024-06-04T17:58:24.766425Z"
    },
    "executionInfo": {
     "elapsed": 2364,
     "status": "ok",
     "timestamp": 1709699836447,
     "user": {
      "displayName": "Tanishq Rachamalla",
      "userId": "11094743700661047537"
     },
     "user_tz": -330
    },
    "id": "aYNtcLk15mJy"
   },
   "outputs": [
    {
     "name": "stdout",
     "output_type": "stream",
     "text": [
      "Epoch 1/20\n",
      "\u001b[1m116/116\u001b[0m \u001b[32m━━━━━━━━━━━━━━━━━━━━\u001b[0m\u001b[37m\u001b[0m \u001b[1m45s\u001b[0m 190ms/step - accuracy: 0.3256 - loss: 2.1427 - val_accuracy: 0.8109 - val_loss: 1.0424\n",
      "Epoch 2/20\n",
      "\u001b[1m116/116\u001b[0m \u001b[32m━━━━━━━━━━━━━━━━━━━━\u001b[0m\u001b[37m\u001b[0m \u001b[1m35s\u001b[0m 136ms/step - accuracy: 0.7491 - loss: 1.1403 - val_accuracy: 0.9353 - val_loss: 0.6074\n",
      "Epoch 3/20\n",
      "\u001b[1m116/116\u001b[0m \u001b[32m━━━━━━━━━━━━━━━━━━━━\u001b[0m\u001b[37m\u001b[0m \u001b[1m16s\u001b[0m 134ms/step - accuracy: 0.8768 - loss: 0.7484 - val_accuracy: 0.9701 - val_loss: 0.4312\n",
      "Epoch 4/20\n",
      "\u001b[1m116/116\u001b[0m \u001b[32m━━━━━━━━━━━━━━━━━━━━\u001b[0m\u001b[37m\u001b[0m \u001b[1m15s\u001b[0m 131ms/step - accuracy: 0.9272 - loss: 0.5563 - val_accuracy: 1.0000 - val_loss: 0.3376\n",
      "Epoch 5/20\n",
      "\u001b[1m116/116\u001b[0m \u001b[32m━━━━━━━━━━━━━━━━━━━━\u001b[0m\u001b[37m\u001b[0m \u001b[1m15s\u001b[0m 128ms/step - accuracy: 0.9433 - loss: 0.4657 - val_accuracy: 1.0000 - val_loss: 0.2863\n",
      "Epoch 6/20\n",
      "\u001b[1m116/116\u001b[0m \u001b[32m━━━━━━━━━━━━━━━━━━━━\u001b[0m\u001b[37m\u001b[0m \u001b[1m14s\u001b[0m 116ms/step - accuracy: 0.9605 - loss: 0.3775 - val_accuracy: 1.0000 - val_loss: 0.2581\n",
      "Epoch 7/20\n",
      "\u001b[1m116/116\u001b[0m \u001b[32m━━━━━━━━━━━━━━━━━━━━\u001b[0m\u001b[37m\u001b[0m \u001b[1m13s\u001b[0m 112ms/step - accuracy: 0.9664 - loss: 0.3437 - val_accuracy: 1.0000 - val_loss: 0.2393\n",
      "Epoch 8/20\n",
      "\u001b[1m116/116\u001b[0m \u001b[32m━━━━━━━━━━━━━━━━━━━━\u001b[0m\u001b[37m\u001b[0m \u001b[1m13s\u001b[0m 113ms/step - accuracy: 0.9747 - loss: 0.3097 - val_accuracy: 1.0000 - val_loss: 0.2242\n",
      "Epoch 9/20\n",
      "\u001b[1m116/116\u001b[0m \u001b[32m━━━━━━━━━━━━━━━━━━━━\u001b[0m\u001b[37m\u001b[0m \u001b[1m13s\u001b[0m 110ms/step - accuracy: 0.9707 - loss: 0.2857 - val_accuracy: 1.0000 - val_loss: 0.2110\n",
      "Epoch 10/20\n",
      "\u001b[1m116/116\u001b[0m \u001b[32m━━━━━━━━━━━━━━━━━━━━\u001b[0m\u001b[37m\u001b[0m \u001b[1m13s\u001b[0m 112ms/step - accuracy: 0.9864 - loss: 0.2715 - val_accuracy: 1.0000 - val_loss: 0.2024\n",
      "Epoch 11/20\n",
      "\u001b[1m116/116\u001b[0m \u001b[32m━━━━━━━━━━━━━━━━━━━━\u001b[0m\u001b[37m\u001b[0m \u001b[1m14s\u001b[0m 117ms/step - accuracy: 0.9832 - loss: 0.2473 - val_accuracy: 1.0000 - val_loss: 0.1927\n",
      "Epoch 12/20\n",
      "\u001b[1m116/116\u001b[0m \u001b[32m━━━━━━━━━━━━━━━━━━━━\u001b[0m\u001b[37m\u001b[0m \u001b[1m14s\u001b[0m 117ms/step - accuracy: 0.9892 - loss: 0.2377 - val_accuracy: 1.0000 - val_loss: 0.1897\n",
      "Epoch 13/20\n",
      "\u001b[1m116/116\u001b[0m \u001b[32m━━━━━━━━━━━━━━━━━━━━\u001b[0m\u001b[37m\u001b[0m \u001b[1m14s\u001b[0m 121ms/step - accuracy: 0.9844 - loss: 0.2371 - val_accuracy: 1.0000 - val_loss: 0.1810\n",
      "Epoch 14/20\n",
      "\u001b[1m116/116\u001b[0m \u001b[32m━━━━━━━━━━━━━━━━━━━━\u001b[0m\u001b[37m\u001b[0m \u001b[1m14s\u001b[0m 118ms/step - accuracy: 0.9876 - loss: 0.2160 - val_accuracy: 1.0000 - val_loss: 0.1800\n",
      "Epoch 15/20\n",
      "\u001b[1m116/116\u001b[0m \u001b[32m━━━━━━━━━━━━━━━━━━━━\u001b[0m\u001b[37m\u001b[0m \u001b[1m14s\u001b[0m 121ms/step - accuracy: 0.9918 - loss: 0.2196 - val_accuracy: 1.0000 - val_loss: 0.1752\n",
      "Epoch 16/20\n",
      "\u001b[1m116/116\u001b[0m \u001b[32m━━━━━━━━━━━━━━━━━━━━\u001b[0m\u001b[37m\u001b[0m \u001b[1m14s\u001b[0m 116ms/step - accuracy: 0.9841 - loss: 0.2141 - val_accuracy: 1.0000 - val_loss: 0.1687\n",
      "Epoch 17/20\n",
      "\u001b[1m116/116\u001b[0m \u001b[32m━━━━━━━━━━━━━━━━━━━━\u001b[0m\u001b[37m\u001b[0m \u001b[1m14s\u001b[0m 118ms/step - accuracy: 0.9941 - loss: 0.2035 - val_accuracy: 1.0000 - val_loss: 0.1654\n",
      "Epoch 18/20\n",
      "\u001b[1m116/116\u001b[0m \u001b[32m━━━━━━━━━━━━━━━━━━━━\u001b[0m\u001b[37m\u001b[0m \u001b[1m13s\u001b[0m 112ms/step - accuracy: 0.9918 - loss: 0.1957 - val_accuracy: 1.0000 - val_loss: 0.1514\n",
      "Epoch 19/20\n",
      "\u001b[1m116/116\u001b[0m \u001b[32m━━━━━━━━━━━━━━━━━━━━\u001b[0m\u001b[37m\u001b[0m \u001b[1m13s\u001b[0m 113ms/step - accuracy: 0.9945 - loss: 0.1831 - val_accuracy: 1.0000 - val_loss: 0.1478\n",
      "Epoch 20/20\n",
      "\u001b[1m116/116\u001b[0m \u001b[32m━━━━━━━━━━━━━━━━━━━━\u001b[0m\u001b[37m\u001b[0m \u001b[1m11s\u001b[0m 97ms/step - accuracy: 0.9937 - loss: 0.1815 - val_accuracy: 1.0000 - val_loss: 0.1442\n"
     ]
    },
    {
     "ename": "NameError",
     "evalue": "name 'model_path' is not defined",
     "output_type": "error",
     "traceback": [
      "\u001b[0;31m---------------------------------------------------------------------------\u001b[0m",
      "\u001b[0;31mNameError\u001b[0m                                 Traceback (most recent call last)",
      "Cell \u001b[0;32mIn [16], line 11\u001b[0m\n\u001b[1;32m      1\u001b[0m history \u001b[38;5;241m=\u001b[39m ensemble_model\u001b[38;5;241m.\u001b[39mfit(\n\u001b[1;32m      2\u001b[0m     x\u001b[38;5;241m=\u001b[39mtrain_input_sub,\n\u001b[1;32m      3\u001b[0m     y\u001b[38;5;241m=\u001b[39my_train_sub,\n\u001b[0;32m   (...)\u001b[0m\n\u001b[1;32m      7\u001b[0m     verbose\u001b[38;5;241m=\u001b[39m\u001b[38;5;28;01mTrue\u001b[39;00m\n\u001b[1;32m      8\u001b[0m )\n\u001b[1;32m     10\u001b[0m \u001b[38;5;66;03m# Save the model\u001b[39;00m\n\u001b[0;32m---> 11\u001b[0m ensemble_model\u001b[38;5;241m.\u001b[39msave(\u001b[43mmodel_path\u001b[49m)\n\u001b[1;32m     12\u001b[0m \u001b[38;5;28mprint\u001b[39m(\u001b[38;5;124m\"\u001b[39m\u001b[38;5;124mModel trained and saved to disk.\u001b[39m\u001b[38;5;124m\"\u001b[39m)\n\u001b[1;32m     14\u001b[0m \u001b[38;5;66;03m# Plot training & validation accuracy values\u001b[39;00m\n",
      "\u001b[0;31mNameError\u001b[0m: name 'model_path' is not defined"
     ]
    }
   ],
   "source": [
    "\n",
    "from tensorflow.keras.models import load_model\n",
    "\n",
    "\n",
    "model_path = 'ensemble_model_KSC.keras'\n",
    "\n",
    "if os.path.exists(model_path):\n",
    "    # Load the existing model\n",
    "    ensemble_model = load_model(model_path)\n",
    "    print(\"Model loaded from disk.\")\n",
    "else:\n",
    "    # Ensure train_input_sub, y_train_sub, val_input, and y_val are defined\n",
    "    # Assuming they are already defined as per your dataset\n",
    "\n",
    "    # Compile and train the ensemble model\n",
    "    history = ensemble_model.fit(\n",
    "        x=train_input_sub,\n",
    "        y=y_train_sub,\n",
    "        batch_size=32,\n",
    "        epochs=20,\n",
    "        validation_data=(val_input, y_val),\n",
    "        verbose=True\n",
    "    )\n",
    "\n",
    "    # Save the model\n",
    "    ensemble_model.save(model_path)\n",
    "    print(\"Model trained and saved to disk.\")\n",
    "\n",
    "    # Plot training & validation accuracy values\n",
    "    plt.figure(figsize=(12, 4))\n",
    "    \n",
    "    plt.subplot(1, 2, 1)\n",
    "    plt.plot(history.history['accuracy'])\n",
    "    plt.plot(history.history['val_accuracy'])\n",
    "    plt.title('Model accuracy')\n",
    "    plt.ylabel('Accuracy')\n",
    "    plt.xlabel('Epoch')\n",
    "    plt.legend(['Train', 'Validation'], loc='upper left')\n",
    "\n",
    "    # Plot training & validation loss values\n",
    "    plt.subplot(1, 2, 2)\n",
    "    plt.plot(history.history['loss'])\n",
    "    plt.plot(history.history['val_loss'])\n",
    "    plt.title('Model loss')\n",
    "    plt.ylabel('Loss')\n",
    "    plt.xlabel('Epoch')\n",
    "    plt.legend(['Train', 'Validation'], loc='upper left')\n",
    "\n",
    "    plt.tight_layout()\n",
    "    plt.show()\n"
   ]
  },
  {
   "cell_type": "markdown",
   "metadata": {
    "id": "rWp9JSSu5mJz"
   },
   "source": [
    "## Model performance evaluation\n",
    "Overall loss and accuracy of the model was calculated using the 'evaluate' method. The loss and accuracy for each class was also calculated using the 'calc_metrics' function of the 'img_util' module.  "
   ]
  },
  {
   "cell_type": "code",
   "execution_count": 17,
   "metadata": {
    "colab": {
     "base_uri": "https://localhost:8080/"
    },
    "execution": {
     "iopub.execute_input": "2024-06-04T18:04:04.962551Z",
     "iopub.status.busy": "2024-06-04T18:04:04.961584Z",
     "iopub.status.idle": "2024-06-04T18:05:40.283986Z",
     "shell.execute_reply": "2024-06-04T18:05:40.282966Z",
     "shell.execute_reply.started": "2024-06-04T18:04:04.962516Z"
    },
    "executionInfo": {
     "elapsed": 19953,
     "status": "ok",
     "timestamp": 1709699861505,
     "user": {
      "displayName": "Tanishq Rachamalla",
      "userId": "11094743700661047537"
     },
     "user_tz": -330
    },
    "id": "fURm7LHz5mJz",
    "outputId": "0968a74d-7ccc-419f-d9b5-dea2dde0e369"
   },
   "outputs": [
    {
     "name": "stdout",
     "output_type": "stream",
     "text": [
      "Overall loss = 0.16447138786315918\n",
      "Overall accuracy = 0.9992343187332153\n",
      "\n",
      "Class ID     Accuracy\n",
      "______________________________\n",
      " 1            1.0000\n",
      "______________________________\n",
      " 2            1.0000\n",
      "______________________________\n",
      " 3            0.9844\n",
      "______________________________\n",
      " 4            1.0000\n",
      "______________________________\n",
      " 5            1.0000\n",
      "______________________________\n",
      " 6            1.0000\n",
      "______________________________\n",
      " 7            1.0000\n",
      "______________________________\n",
      " 8            1.0000\n",
      "______________________________\n",
      " 9            1.0000\n",
      "______________________________\n",
      "10            1.0000\n",
      "______________________________\n",
      "11            1.0000\n",
      "______________________________\n",
      "12            1.0000\n",
      "______________________________\n",
      "13            1.0000\n",
      "______________________________\n"
     ]
    }
   ],
   "source": [
    "overall_loss, overal_accu = ensemble_model.evaluate(test_input, y_test, verbose=False)\n",
    "print('Overall loss = {}'.format(overall_loss))\n",
    "print('Overall accuracy = {}\\n'.format(overal_accu))\n",
    "\n",
    "# Calculating accuracy for each class\n",
    "ensemble_model_metrics = util.calc_metrics(ensemble_model, test_input,y_test, int_to_vector_dict, verbose=False)\n",
    "\n",
    "#Printing accuracy per class\n",
    "print('{}{:>13}\\n{}'.format('Class ID','Accuracy', 30*'_'))\n",
    "for key, val in ensemble_model_metrics.items():\n",
    "    print(('{:>2d}{:>18.4f}\\n'+'{}').format(key, val[0][1], 30*'_'))"
   ]
  },
  {
   "cell_type": "code",
   "execution_count": 18,
   "metadata": {
    "colab": {
     "base_uri": "https://localhost:8080/"
    },
    "execution": {
     "iopub.execute_input": "2024-06-04T18:05:40.285910Z",
     "iopub.status.busy": "2024-06-04T18:05:40.285603Z",
     "iopub.status.idle": "2024-06-04T18:05:59.083336Z",
     "shell.execute_reply": "2024-06-04T18:05:59.082214Z",
     "shell.execute_reply.started": "2024-06-04T18:05:40.285884Z"
    },
    "executionInfo": {
     "elapsed": 25118,
     "status": "ok",
     "timestamp": 1709699889724,
     "user": {
      "displayName": "Tanishq Rachamalla",
      "userId": "11094743700661047537"
     },
     "user_tz": -330
    },
    "id": "jypWStRAYhxn",
    "outputId": "7c6e9297-8cb7-424c-8295-117a1a422b22"
   },
   "outputs": [
    {
     "name": "stdout",
     "output_type": "stream",
     "text": [
      "\u001b[1m116/116\u001b[0m \u001b[32m━━━━━━━━━━━━━━━━━━━━\u001b[0m\u001b[37m\u001b[0m \u001b[1m20s\u001b[0m 150ms/step\n"
     ]
    },
    {
     "data": {
      "text/plain": [
       "0.9996991184112541"
      ]
     },
     "execution_count": 18,
     "metadata": {},
     "output_type": "execute_result"
    }
   ],
   "source": [
    "# calculate Kappa coefficient\n",
    "from sklearn.metrics import confusion_matrix, accuracy_score, classification_report, cohen_kappa_score\n",
    "Y_pred = ensemble_model.predict(train_input_sub)\n",
    "y_pred = np.argmax(Y_pred, axis=1)\n",
    "kappa = cohen_kappa_score(np.argmax(y_train_sub, axis=1), y_pred)\n",
    "kappa"
   ]
  },
  {
   "cell_type": "markdown",
   "metadata": {
    "id": "N5Zgn0K95mJ0"
   },
   "source": [
    "## Making predictions using using test data\n",
    "The trained model was used for label predictions using the training, validation, and test datasets. It was also used to make label prediction for the entire dataset including unlabeled pixels."
   ]
  },
  {
   "cell_type": "code",
   "execution_count": 19,
   "metadata": {
    "colab": {
     "base_uri": "https://localhost:8080/",
     "height": 451
    },
    "execution": {
     "iopub.execute_input": "2024-06-04T18:06:43.791642Z",
     "iopub.status.busy": "2024-06-04T18:06:43.790791Z",
     "iopub.status.idle": "2024-06-04T18:08:29.304121Z",
     "shell.execute_reply": "2024-06-04T18:08:29.303037Z",
     "shell.execute_reply.started": "2024-06-04T18:06:43.791607Z"
    },
    "executionInfo": {
     "elapsed": 127271,
     "status": "ok",
     "timestamp": 1709700027509,
     "user": {
      "displayName": "Tanishq Rachamalla",
      "userId": "11094743700661047537"
     },
     "user_tz": -330
    },
    "id": "wTRpBTaT5mJ0",
    "outputId": "61d828ec-6054-4b9a-a0c5-61d661884d92",
    "scrolled": true
   },
   "outputs": [
    {
     "name": "stdout",
     "output_type": "stream",
     "text": [
      "\u001b[1m5208/5208\u001b[0m \u001b[32m━━━━━━━━━━━━━━━━━━━━\u001b[0m\u001b[37m\u001b[0m \u001b[1m153s\u001b[0m 29ms/step\n"
     ]
    },
    {
     "data": {
      "text/plain": [
       "<matplotlib.image.AxesImage at 0x7f8c9533d7f0>"
      ]
     },
     "execution_count": 19,
     "metadata": {},
     "output_type": "execute_result"
    },
    {
     "data": {
      "image/png": "[encoded data removed]",
      "text/plain": [
       "<Figure size 640x480 with 1 Axes>"
      ]
     },
     "metadata": {},
     "output_type": "display_data"
    }
   ],
   "source": [
    "# Plotting predicted results\n",
    "concat_rows =  np.concatenate((train_rows_sub, val_rows, test_rows))\n",
    "concat_cols = np.concatenate((train_cols_sub, val_cols, test_cols))\n",
    "concat_input = np.concatenate((train_input_sub, val_input, test_input))\n",
    "concat_y = np.concatenate((y_train_sub, y_val, y_test))\n",
    "pixel_indices = (concat_rows, concat_cols)\n",
    "\n",
    "partial_map = util.plot_partial_map(ensemble_model, gt, pixel_indices, concat_input,\n",
    "                            concat_y, int_to_vector_dict, plo=False)\n",
    "plt.imshow(partial_map)\n"
   ]
  },
  {
   "cell_type": "code",
   "execution_count": 20,
   "metadata": {
    "colab": {
     "base_uri": "https://localhost:8080/",
     "height": 451
    },
    "execution": {
     "iopub.execute_input": "2024-06-04T18:08:29.306402Z",
     "iopub.status.busy": "2024-06-04T18:08:29.306026Z",
     "iopub.status.idle": "2024-06-04T18:08:29.625860Z",
     "shell.execute_reply": "2024-06-04T18:08:29.624728Z",
     "shell.execute_reply.started": "2024-06-04T18:08:29.306369Z"
    },
    "executionInfo": {
     "elapsed": 10,
     "status": "ok",
     "timestamp": 1709700127057,
     "user": {
      "displayName": "Tanishq Rachamalla",
      "userId": "11094743700661047537"
     },
     "user_tz": -330
    },
    "id": "yRwy0yH3NlAA",
    "outputId": "aecb5d2c-4624-4798-b46b-a36fbeaa180f"
   },
   "outputs": [
    {
     "data": {
      "text/plain": [
       "<matplotlib.image.AxesImage at 0x7f881e412b50>"
      ]
     },
     "execution_count": 20,
     "metadata": {},
     "output_type": "execute_result"
    },
    {
     "data": {
      "image/png": "[encoded data removed]",
      "text/plain": [
       "<Figure size 640x480 with 1 Axes>"
      ]
     },
     "metadata": {},
     "output_type": "display_data"
    }
   ],
   "source": [
    "plt.imshow(gt)"
   ]
  },
  {
   "cell_type": "code",
   "execution_count": 21,
   "metadata": {},
   "outputs": [
    {
     "name": "stdout",
     "output_type": "stream",
     "text": [
      "Model trained and saved to ensemble_model_KSC.keras.\n",
      "Model loaded from disk.\n"
     ]
    },
    {
     "name": "stderr",
     "output_type": "stream",
     "text": [
      "/home/jupyter-25001/.local/lib/python3.9/site-packages/keras/src/saving/saving_lib.py:396: UserWarning: Skipping variable loading for optimizer 'adam', because it has 766 variables whereas the saved optimizer has 30 variables. \n",
      "  trackable.load_own_variables(weights_store.get(inner_path))\n"
     ]
    }
   ],
   "source": [
    "# import os\n",
    "# from tensorflow import keras\n",
    "\n",
    "# # Define the model save path\n",
    "model_save_path = 'ensemble_model_KSC.keras'\n",
    "\n",
    "# # Remove the existing file if it exists\n",
    "# if os.path.exists(model_save_path):\n",
    "#     os.remove(model_save_path)\n",
    "\n",
    "# # Save the trained ensemble model in the recommended Keras format\n",
    "# ensemble_model.save(model_save_path)\n",
    "# print(f\"Model trained and saved to {model_save_path}.\")\n",
    "\n",
    "# # Load the saved model\n",
    "# loaded_model = keras.models.load_model(model_save_path)\n",
    "# print(\"Model loaded from disk.\")\n"
   ]
  },
  {
   "cell_type": "code",
   "execution_count": null,
   "metadata": {
    "id": "iR4Cm1dri_Qj"
   },
   "outputs": [],
   "source": []
  }
 ],
 "metadata": {
  "colab": {
   "provenance": []
  },
  "kaggle": {
   "accelerator": "gpu",
   "dataSources": [
    {
     "datasetId": 5003310,
     "sourceId": 8407613,
     "sourceType": "datasetVersion"
    },
    {
     "datasetId": 5003328,
     "sourceId": 8407634,
     "sourceType": "datasetVersion"
    }
   ],
   "dockerImageVersionId": 30699,
   "isGpuEnabled": true,
   "isInternetEnabled": true,
   "language": "python",
   "sourceType": "notebook"
  },
  "kernelspec": {
   "display_name": "Python 3 (ipykernel)",
   "language": "python",
   "name": "python3"
  },
  "language_info": {
   "codemirror_mode": {
    "name": "ipython",
    "version": 3
   },
   "file_extension": ".py",
   "mimetype": "text/x-python",
   "name": "python",
   "nbconvert_exporter": "python",
   "pygments_lexer": "ipython3",
   "version": "3.9.7"
  }
 },
 "nbformat": 4,
 "nbformat_minor": 4
}
